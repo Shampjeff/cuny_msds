{
 "cells": [
  {
   "cell_type": "markdown",
   "id": "forward-vision",
   "metadata": {},
   "source": [
    "# Week 2 HW - \"Hello World Graph\""
   ]
  },
  {
   "cell_type": "code",
   "execution_count": 1,
   "id": "friendly-appraisal",
   "metadata": {},
   "outputs": [
    {
     "name": "stderr",
     "output_type": "stream",
     "text": [
      "\n",
      "Bad key \"text.kerning_factor\" on line 4 in\n",
      "/Users/jeffshamp/.conda/envs/sps620/lib/python3.7/site-packages/matplotlib/mpl-data/stylelib/_classic_test_patch.mplstyle.\n",
      "You probably need to get an updated matplotlibrc file from\n",
      "http://github.com/matplotlib/matplotlib/blob/master/matplotlibrc.template\n",
      "or from the matplotlib source distribution\n"
     ]
    }
   ],
   "source": [
    "import networkx as net\n",
    "import numpy as np\n",
    "import matplotlib.pyplot as plt\n",
    "import warnings\n",
    "warnings.filterwarnings('ignore')\n",
    "# It is time to update the course, many things are throwing warnings!"
   ]
  },
  {
   "cell_type": "code",
   "execution_count": 2,
   "id": "historic-banana",
   "metadata": {},
   "outputs": [],
   "source": [
    "%matplotlib inline"
   ]
  },
  {
   "cell_type": "markdown",
   "id": "superior-entity",
   "metadata": {},
   "source": [
    "# Make Kite"
   ]
  },
  {
   "cell_type": "markdown",
   "id": "labeled-support",
   "metadata": {},
   "source": [
    "The Krackhardt Kite is built into NetworkX."
   ]
  },
  {
   "cell_type": "code",
   "execution_count": 15,
   "id": "intermediate-pollution",
   "metadata": {},
   "outputs": [],
   "source": [
    "HW = net.generators.small.krackhardt_kite_graph()"
   ]
  },
  {
   "cell_type": "markdown",
   "id": "accurate-facial",
   "metadata": {},
   "source": [
    "Some features can be extracted using methods"
   ]
  },
  {
   "cell_type": "code",
   "execution_count": 16,
   "id": "bright-killer",
   "metadata": {},
   "outputs": [
    {
     "data": {
      "text/plain": [
       "[0, 1, 2, 3, 4, 5, 6, 7, 8, 9]"
      ]
     },
     "execution_count": 16,
     "metadata": {},
     "output_type": "execute_result"
    }
   ],
   "source": [
    "HW.nodes()"
   ]
  },
  {
   "cell_type": "code",
   "execution_count": 17,
   "id": "theoretical-baking",
   "metadata": {},
   "outputs": [
    {
     "data": {
      "text/plain": [
       "18"
      ]
     },
     "execution_count": 17,
     "metadata": {},
     "output_type": "execute_result"
    }
   ],
   "source": [
    "HW.number_of_edges()"
   ]
  },
  {
   "cell_type": "code",
   "execution_count": 18,
   "id": "otherwise-conservation",
   "metadata": {},
   "outputs": [
    {
     "data": {
      "text/plain": [
       "10"
      ]
     },
     "execution_count": 18,
     "metadata": {},
     "output_type": "execute_result"
    }
   ],
   "source": [
    "HW.number_of_nodes()"
   ]
  },
  {
   "cell_type": "code",
   "execution_count": 20,
   "id": "magnetic-simulation",
   "metadata": {},
   "outputs": [
    {
     "data": {
      "text/plain": [
       "[(0, 1),\n",
       " (0, 2),\n",
       " (0, 3),\n",
       " (0, 5),\n",
       " (1, 3),\n",
       " (1, 4),\n",
       " (1, 6),\n",
       " (2, 3),\n",
       " (2, 5),\n",
       " (3, 4),\n",
       " (3, 5),\n",
       " (3, 6),\n",
       " (4, 6),\n",
       " (5, 6),\n",
       " (5, 7),\n",
       " (6, 7),\n",
       " (7, 8),\n",
       " (8, 9)]"
      ]
     },
     "execution_count": 20,
     "metadata": {},
     "output_type": "execute_result"
    }
   ],
   "source": [
    "HW.edges()"
   ]
  },
  {
   "cell_type": "code",
   "execution_count": null,
   "id": "juvenile-campbell",
   "metadata": {},
   "outputs": [],
   "source": []
  },
  {
   "cell_type": "markdown",
   "id": "informal-happening",
   "metadata": {},
   "source": [
    "Let's draw the graph and make sure we have want we want. "
   ]
  },
  {
   "cell_type": "code",
   "execution_count": 7,
   "id": "listed-estimate",
   "metadata": {},
   "outputs": [
    {
     "data": {
      "image/png": "[encoded data removed]",
      "text/plain": [
       "<Figure size 432x288 with 1 Axes>"
      ]
     },
     "metadata": {},
     "output_type": "display_data"
    }
   ],
   "source": [
    "net.draw(HW, with_labels=1)\n",
    "plt.show()"
   ]
  },
  {
   "cell_type": "markdown",
   "id": "catholic-baltimore",
   "metadata": {},
   "source": [
    "# Named Nodes"
   ]
  },
  {
   "cell_type": "markdown",
   "id": "martial-cherry",
   "metadata": {},
   "source": [
    "So we have the graph and it looks like what we want. We should now name the nodes in the correct order. It seems that we need to add the names (Beverly, Carol, etc) manually as none of the available methods seem to store them. "
   ]
  },
  {
   "cell_type": "code",
   "execution_count": 8,
   "id": "signal-imperial",
   "metadata": {},
   "outputs": [],
   "source": [
    "people_list = [\"Beverly\", \"Andre\", \"Ed\", \"Diana\", \"Carol\", \"Garth\", \"Fernando\", \"Heather\", \"Ike\", \"Jane\"]\n",
    "node_names = dict(zip(range(10), people_list))"
   ]
  },
  {
   "cell_type": "markdown",
   "id": "opened-washington",
   "metadata": {},
   "source": [
    "I find it strange that one cannot relabel nodes without making a new object. There is no method to relabel a previously loaded graph. "
   ]
  },
  {
   "cell_type": "code",
   "execution_count": 10,
   "id": "expired-newspaper",
   "metadata": {},
   "outputs": [],
   "source": [
    "k = net.relabel_nodes(HW, node_names)"
   ]
  },
  {
   "cell_type": "code",
   "execution_count": 11,
   "id": "existing-layout",
   "metadata": {},
   "outputs": [
    {
     "data": {
      "text/plain": [
       "['Beverly',\n",
       " 'Andre',\n",
       " 'Ed',\n",
       " 'Diana',\n",
       " 'Garth',\n",
       " 'Carol',\n",
       " 'Fernando',\n",
       " 'Heather',\n",
       " 'Ike',\n",
       " 'Jane']"
      ]
     },
     "execution_count": 11,
     "metadata": {},
     "output_type": "execute_result"
    }
   ],
   "source": [
    "k.nodes()"
   ]
  },
  {
   "cell_type": "code",
   "execution_count": 14,
   "id": "contained-olympus",
   "metadata": {},
   "outputs": [
    {
     "data": {
      "text/plain": [
       "[('Beverly', 'Andre'),\n",
       " ('Beverly', 'Ed'),\n",
       " ('Beverly', 'Diana'),\n",
       " ('Beverly', 'Garth'),\n",
       " ('Andre', 'Diana'),\n",
       " ('Andre', 'Carol'),\n",
       " ('Andre', 'Fernando'),\n",
       " ('Ed', 'Diana'),\n",
       " ('Ed', 'Garth'),\n",
       " ('Diana', 'Carol'),\n",
       " ('Diana', 'Garth'),\n",
       " ('Diana', 'Fernando'),\n",
       " ('Garth', 'Fernando'),\n",
       " ('Garth', 'Heather'),\n",
       " ('Carol', 'Fernando'),\n",
       " ('Fernando', 'Heather'),\n",
       " ('Heather', 'Ike'),\n",
       " ('Ike', 'Jane')]"
      ]
     },
     "execution_count": 14,
     "metadata": {},
     "output_type": "execute_result"
    }
   ],
   "source": [
    "k.edges()"
   ]
  },
  {
   "cell_type": "code",
   "execution_count": 29,
   "id": "ranging-monitoring",
   "metadata": {},
   "outputs": [
    {
     "data": {
      "image/png": "[encoded data removed]",
      "text/plain": [
       "<Figure size 432x288 with 1 Axes>"
      ]
     },
     "metadata": {},
     "output_type": "display_data"
    }
   ],
   "source": [
    "net.draw(k, with_labels=1)\n",
    "plt.show()"
   ]
  },
  {
   "cell_type": "markdown",
   "id": "great-drive",
   "metadata": {},
   "source": [
    "And there we have it. Krackhardt Kite with names. "
   ]
  }
 ],
 "metadata": {
  "kernelspec": {
   "display_name": "Python 3",
   "language": "python",
   "name": "python3"
  },
  "language_info": {
   "codemirror_mode": {
    "name": "ipython",
    "version": 3
   },
   "file_extension": ".py",
   "mimetype": "text/x-python",
   "name": "python",
   "nbconvert_exporter": "python",
   "pygments_lexer": "ipython3",
   "version": "3.7.9"
  }
 },
 "nbformat": 4,
 "nbformat_minor": 5
}
