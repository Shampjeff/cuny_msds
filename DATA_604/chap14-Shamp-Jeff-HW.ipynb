{
 "cells": [
  {
   "cell_type": "markdown",
   "metadata": {},
   "source": [
    "# DATA 604 HW 14\n",
    "## Modeling and Simulation in Python\n",
    "## Jeff Shamp\n",
    "\n",
    "Chapter 14\n",
    "\n",
    "Copyright 2017 Allen Downey\n",
    "\n",
    "License: [Creative Commons Attribution 4.0 International](https://creativecommons.org/licenses/by/4.0)"
   ]
  },
  {
   "cell_type": "code",
   "execution_count": 2,
   "metadata": {},
   "outputs": [],
   "source": [
    "# Configure Jupyter so figures appear in the notebook\n",
    "%matplotlib inline\n",
    "\n",
    "# Configure Jupyter to display the assigned value after an assignment\n",
    "%config InteractiveShell.ast_node_interactivity='last_expr_or_assign'\n",
    "\n",
    "# import functions from the modsim.py module\n",
    "from modsim import *"
   ]
  },
  {
   "cell_type": "markdown",
   "metadata": {},
   "source": [
    "### Code from previous chapters"
   ]
  },
  {
   "cell_type": "code",
   "execution_count": 3,
   "metadata": {},
   "outputs": [],
   "source": [
    "def make_system(beta, gamma):\n",
    "    \"\"\"Make a system object for the SIR model.\n",
    "    \n",
    "    beta: contact rate in days\n",
    "    gamma: recovery rate in days\n",
    "    \n",
    "    returns: System object\n",
    "    \"\"\"\n",
    "    init = State(S=89, I=1, R=0)\n",
    "    init /= np.sum(init)\n",
    "\n",
    "    t0 = 0\n",
    "    t_end = 7 * 14\n",
    "\n",
    "    return System(init=init, t0=t0, t_end=t_end,\n",
    "                  beta=beta, gamma=gamma)"
   ]
  },
  {
   "cell_type": "code",
   "execution_count": 4,
   "metadata": {},
   "outputs": [],
   "source": [
    "def update_func(state, t, system):\n",
    "    \"\"\"Update the SIR model.\n",
    "    \n",
    "    state: State (s, i, r)\n",
    "    t: time\n",
    "    system: System object\n",
    "    \n",
    "    returns: State (sir)\n",
    "    \"\"\"\n",
    "    s, i, r = state\n",
    "\n",
    "    infected = system.beta * i * s    \n",
    "    recovered = system.gamma * i\n",
    "    \n",
    "    s -= infected\n",
    "    i += infected - recovered\n",
    "    r += recovered\n",
    "    \n",
    "    return State(S=s, I=i, R=r)"
   ]
  },
  {
   "cell_type": "code",
   "execution_count": 5,
   "metadata": {},
   "outputs": [],
   "source": [
    "def run_simulation(system, update_func):\n",
    "    \"\"\"Runs a simulation of the system.\n",
    "        \n",
    "    system: System object\n",
    "    update_func: function that updates state\n",
    "    \n",
    "    returns: TimeFrame\n",
    "    \"\"\"\n",
    "    init, t0, t_end = system.init, system.t0, system.t_end\n",
    "    \n",
    "    frame = TimeFrame(columns=init.index)\n",
    "    frame.row[t0] = init\n",
    "    \n",
    "    for t in linrange(t0, t_end):\n",
    "        frame.row[t+1] = update_func(frame.row[t], t, system)\n",
    "    \n",
    "    return frame"
   ]
  },
  {
   "cell_type": "code",
   "execution_count": 6,
   "metadata": {},
   "outputs": [],
   "source": [
    "def calc_total_infected(results):\n",
    "    \"\"\"Fraction of population infected during the simulation.\n",
    "    \n",
    "    results: DataFrame with columns S, I, R\n",
    "    \n",
    "    returns: fraction of population\n",
    "    \"\"\"\n",
    "    return get_first_value(results.S) - get_last_value(results.S)"
   ]
  },
  {
   "cell_type": "code",
   "execution_count": 7,
   "metadata": {},
   "outputs": [],
   "source": [
    "def sweep_beta(beta_array, gamma):\n",
    "    \"\"\"Sweep a range of values for beta.\n",
    "    \n",
    "    beta_array: array of beta values\n",
    "    gamma: recovery rate\n",
    "    \n",
    "    returns: SweepSeries that maps from beta to total infected\n",
    "    \"\"\"\n",
    "    sweep = SweepSeries()\n",
    "    for beta in beta_array:\n",
    "        system = make_system(beta, gamma)\n",
    "        results = run_simulation(system, update_func)\n",
    "        sweep[system.beta] = calc_total_infected(results)\n",
    "    return sweep"
   ]
  },
  {
   "cell_type": "code",
   "execution_count": 8,
   "metadata": {},
   "outputs": [],
   "source": [
    "def sweep_parameters(beta_array, gamma_array):\n",
    "    \"\"\"Sweep a range of values for beta and gamma.\n",
    "    \n",
    "    beta_array: array of infection rates\n",
    "    gamma_array: array of recovery rates\n",
    "    \n",
    "    returns: SweepFrame with one row for each beta\n",
    "             and one column for each gamma\n",
    "    \"\"\"\n",
    "    frame = SweepFrame(columns=gamma_array)\n",
    "    for gamma in gamma_array:\n",
    "        frame[gamma] = sweep_beta(beta_array, gamma)\n",
    "    return frame"
   ]
  },
  {
   "cell_type": "markdown",
   "metadata": {},
   "source": [
    "### Contact number"
   ]
  },
  {
   "cell_type": "markdown",
   "metadata": {},
   "source": [
    "Here's the `SweepFrame` from the previous chapter, with one row for each value of `beta` and one column for each value of `gamma`."
   ]
  },
  {
   "cell_type": "code",
   "execution_count": 9,
   "metadata": {},
   "outputs": [
    {
     "data": {
      "text/html": [
       "<div>\n",
       "<style scoped>\n",
       "    .dataframe tbody tr th:only-of-type {\n",
       "        vertical-align: middle;\n",
       "    }\n",
       "\n",
       "    .dataframe tbody tr th {\n",
       "        vertical-align: top;\n",
       "    }\n",
       "\n",
       "    .dataframe thead th {\n",
       "        text-align: right;\n",
       "    }\n",
       "</style>\n",
       "<table border=\"1\" class=\"dataframe\">\n",
       "  <thead>\n",
       "    <tr style=\"text-align: right;\">\n",
       "      <th></th>\n",
       "      <th>0.2</th>\n",
       "      <th>0.4</th>\n",
       "      <th>0.6</th>\n",
       "      <th>0.8</th>\n",
       "    </tr>\n",
       "  </thead>\n",
       "  <tbody>\n",
       "    <tr>\n",
       "      <th>0.1</th>\n",
       "      <td>0.010756</td>\n",
       "      <td>0.003642</td>\n",
       "      <td>0.002191</td>\n",
       "      <td>0.001567</td>\n",
       "    </tr>\n",
       "    <tr>\n",
       "      <th>0.2</th>\n",
       "      <td>0.118984</td>\n",
       "      <td>0.010763</td>\n",
       "      <td>0.005447</td>\n",
       "      <td>0.003644</td>\n",
       "    </tr>\n",
       "    <tr>\n",
       "      <th>0.3</th>\n",
       "      <td>0.589095</td>\n",
       "      <td>0.030185</td>\n",
       "      <td>0.010771</td>\n",
       "      <td>0.006526</td>\n",
       "    </tr>\n",
       "    <tr>\n",
       "      <th>0.4</th>\n",
       "      <td>0.801339</td>\n",
       "      <td>0.131563</td>\n",
       "      <td>0.020917</td>\n",
       "      <td>0.010780</td>\n",
       "    </tr>\n",
       "    <tr>\n",
       "      <th>0.5</th>\n",
       "      <td>0.896577</td>\n",
       "      <td>0.396409</td>\n",
       "      <td>0.046140</td>\n",
       "      <td>0.017640</td>\n",
       "    </tr>\n",
       "  </tbody>\n",
       "</table>\n",
       "</div>"
      ],
      "text/plain": [
       "          0.2       0.4       0.6       0.8\n",
       "0.1  0.010756  0.003642  0.002191  0.001567\n",
       "0.2  0.118984  0.010763  0.005447  0.003644\n",
       "0.3  0.589095  0.030185  0.010771  0.006526\n",
       "0.4  0.801339  0.131563  0.020917  0.010780\n",
       "0.5  0.896577  0.396409  0.046140  0.017640"
      ]
     },
     "execution_count": 9,
     "metadata": {},
     "output_type": "execute_result"
    }
   ],
   "source": [
    "beta_array = [0.1, 0.2, 0.3, 0.4, 0.5, 0.6, 0.7, 0.8, 0.9, 1.0 , 1.1]\n",
    "gamma_array = [0.2, 0.4, 0.6, 0.8]\n",
    "frame = sweep_parameters(beta_array, gamma_array)\n",
    "frame.head()"
   ]
  },
  {
   "cell_type": "markdown",
   "metadata": {},
   "source": []
  },
  {
   "cell_type": "code",
   "execution_count": 10,
   "metadata": {},
   "outputs": [
    {
     "data": {
      "text/plain": [
       "(11, 4)"
      ]
     },
     "execution_count": 10,
     "metadata": {},
     "output_type": "execute_result"
    }
   ],
   "source": [
    "frame.shape"
   ]
  },
  {
   "cell_type": "markdown",
   "metadata": {},
   "source": [
    "The following loop shows how we can loop through the columns and rows of the `SweepFrame`.  With 11 rows and 4 columns, there are 44 elements."
   ]
  },
  {
   "cell_type": "code",
   "execution_count": 11,
   "metadata": {},
   "outputs": [
    {
     "name": "stdout",
     "output_type": "stream",
     "text": [
      "0.1 0.2 0.010756340768063644\n",
      "0.2 0.2 0.11898421353185373\n",
      "0.3 0.2 0.5890954199973404\n",
      "0.4 0.2 0.8013385277185551\n",
      "0.5 0.2 0.8965769637207062\n",
      "0.6 0.2 0.942929291399791\n",
      "0.7 0.2 0.966299311298026\n",
      "0.8 0.2 0.9781518959989762\n",
      "0.9 0.2 0.9840568957948106\n",
      "1.0 0.2 0.9868823507202488\n",
      "1.1 0.2 0.988148177093735\n",
      "0.1 0.4 0.0036416926514175607\n",
      "0.2 0.4 0.010763463373360094\n",
      "0.3 0.4 0.030184952469116566\n",
      "0.4 0.4 0.131562924303259\n",
      "0.5 0.4 0.3964094037932606\n",
      "0.6 0.4 0.5979016626615987\n",
      "0.7 0.4 0.7284704154876106\n",
      "0.8 0.4 0.8144604459153759\n",
      "0.9 0.4 0.8722697237137128\n",
      "1.0 0.4 0.9116692168795855\n",
      "1.1 0.4 0.9386802509510287\n",
      "0.1 0.6 0.002190722188881611\n",
      "0.2 0.6 0.005446688837466351\n",
      "0.3 0.6 0.010771139974975585\n",
      "0.4 0.6 0.020916599304195316\n",
      "0.5 0.6 0.04614035896610047\n",
      "0.6 0.6 0.13288938996079536\n",
      "0.7 0.6 0.3118432512847451\n",
      "0.8 0.6 0.47832565854255393\n",
      "0.9 0.6 0.605687582114665\n",
      "1.0 0.6 0.7014254793376209\n",
      "1.1 0.6 0.7738176405451065\n",
      "0.1 0.8 0.0015665254038139675\n",
      "0.2 0.8 0.003643953969662994\n",
      "0.3 0.8 0.006526163529085194\n",
      "0.4 0.8 0.010779807499500693\n",
      "0.5 0.8 0.017639902596349066\n",
      "0.6 0.8 0.030291868201986594\n",
      "0.7 0.8 0.05882382948158804\n",
      "0.8 0.8 0.13358889291095588\n",
      "0.9 0.8 0.2668895539427739\n",
      "1.0 0.8 0.40375121210421994\n",
      "1.1 0.8 0.519583469821867\n"
     ]
    }
   ],
   "source": [
    "for gamma in frame.columns:\n",
    "    column = frame[gamma]\n",
    "    for beta in column.index:\n",
    "        frac_infected = column[beta]\n",
    "        print(beta, gamma, frac_infected)"
   ]
  },
  {
   "cell_type": "markdown",
   "metadata": {},
   "source": [
    "Now we can wrap that loop in a function and plot the results.  For each element of the `SweepFrame`, we have `beta`, `gamma`, and `frac_infected`, and we plot `beta/gamma` on the x-axis and `frac_infected` on the y-axis."
   ]
  },
  {
   "cell_type": "code",
   "execution_count": 12,
   "metadata": {},
   "outputs": [],
   "source": [
    "def plot_sweep_frame(frame):\n",
    "    \"\"\"Plot the values from a SweepFrame.\n",
    "    \n",
    "    For each (beta, gamma), compute the contact number,\n",
    "    beta/gamma\n",
    "    \n",
    "    frame: SweepFrame with one row per beta, one column per gamma\n",
    "    \"\"\"\n",
    "    for gamma in frame.columns:\n",
    "        column = frame[gamma]\n",
    "        for beta in column.index:\n",
    "            frac_infected = column[beta]\n",
    "            plot(beta/gamma, frac_infected, 'ro')"
   ]
  },
  {
   "cell_type": "markdown",
   "metadata": {},
   "source": [
    "Here's what it looks like:"
   ]
  },
  {
   "cell_type": "code",
   "execution_count": 13,
   "metadata": {},
   "outputs": [
    {
     "data": {
      "image/png": "[encoded data removed]",
      "text/plain": [
       "<Figure size 432x288 with 1 Axes>"
      ]
     },
     "metadata": {},
     "output_type": "display_data"
    }
   ],
   "source": [
    "plot_sweep_frame(frame)\n",
    "\n",
    "decorate(xlabel='Contact number (beta/gamma)',\n",
    "         ylabel='Fraction infected')\n",
    "\n",
    "#savefig('figs/chap14-fig01.pdf')"
   ]
  },
  {
   "cell_type": "markdown",
   "metadata": {},
   "source": [
    "It turns out that the ratio `beta/gamma`, called the \"contact number\" is sufficient to predict the total number of infections; we don't have to know `beta` and `gamma` separately.\n",
    "\n",
    "We can see that in the previous plot: when we plot the fraction infected versus the contact number, the results fall close to a curve."
   ]
  },
  {
   "cell_type": "markdown",
   "metadata": {},
   "source": [
    "### Analysis"
   ]
  },
  {
   "cell_type": "markdown",
   "metadata": {},
   "source": [
    "In the book we figured out the relationship between $c$ and $s_{\\infty}$ analytically.  Now we can compute it for a range of values:"
   ]
  },
  {
   "cell_type": "code",
   "execution_count": 14,
   "metadata": {},
   "outputs": [],
   "source": [
    "s_inf_array = linspace(0.0001, 0.9999, 101);"
   ]
  },
  {
   "cell_type": "code",
   "execution_count": 15,
   "metadata": {},
   "outputs": [],
   "source": [
    "c_array = log(s_inf_array) / (s_inf_array - 1);"
   ]
  },
  {
   "cell_type": "markdown",
   "metadata": {},
   "source": [
    "`total_infected` is the change in $s$ from the beginning to the end."
   ]
  },
  {
   "cell_type": "code",
   "execution_count": 16,
   "metadata": {},
   "outputs": [],
   "source": [
    "frac_infected = 1 - s_inf_array\n",
    "frac_infected_series = Series(frac_infected, index=c_array);"
   ]
  },
  {
   "cell_type": "markdown",
   "metadata": {},
   "source": [
    "Now we can plot the analytic results and compare them to the simulations."
   ]
  },
  {
   "cell_type": "code",
   "execution_count": 17,
   "metadata": {},
   "outputs": [
    {
     "data": {
      "image/png": "[encoded data removed]",
      "text/plain": [
       "<Figure size 432x288 with 1 Axes>"
      ]
     },
     "metadata": {},
     "output_type": "display_data"
    }
   ],
   "source": [
    "plot_sweep_frame(frame)\n",
    "plot(frac_infected_series, label='Analysis')\n",
    "\n",
    "decorate(xlabel='Contact number (c)',\n",
    "         ylabel='Fraction infected')\n",
    "\n",
    "#savefig('figs/chap14-fig02.pdf')"
   ]
  },
  {
   "cell_type": "markdown",
   "metadata": {},
   "source": [
    "The agreement is generally good, except for values of `c` less than 1."
   ]
  },
  {
   "cell_type": "markdown",
   "metadata": {},
   "source": [
    "## Exercises"
   ]
  },
  {
   "cell_type": "markdown",
   "metadata": {},
   "source": [
    "**Exercise:**  If we didn't know about contact numbers, we might have explored other possibilities, like the difference between `beta` and `gamma`, rather than their ratio.\n",
    "\n",
    "Write a version of `plot_sweep_frame`, called `plot_sweep_frame_difference`, that plots the fraction infected versus the difference `beta-gamma`.\n",
    "\n",
    "What do the results look like, and what does that imply? "
   ]
  },
  {
   "cell_type": "code",
   "execution_count": 18,
   "metadata": {},
   "outputs": [],
   "source": [
    "# Solution goes here\n",
    "def plot_sweep_frame_difference(frame):\n",
    "    for gamma in frame.columns:\n",
    "        column = frame[gamma]\n",
    "        for beta in column.index:\n",
    "            frac_infected = column[beta]\n",
    "            plot(beta - gamma, frac_infected, 'ro')"
   ]
  },
  {
   "cell_type": "code",
   "execution_count": 19,
   "metadata": {},
   "outputs": [
    {
     "data": {
      "image/png": "[encoded data removed]",
      "text/plain": [
       "<Figure size 432x288 with 1 Axes>"
      ]
     },
     "metadata": {},
     "output_type": "display_data"
    }
   ],
   "source": [
    "# Solution goes here\n",
    "plot_sweep_frame_difference(frame)\n",
    "\n",
    "decorate(xlabel='Difference in beta-gamma',\n",
    "         ylabel='Fraction infected')"
   ]
  },
  {
   "cell_type": "markdown",
   "metadata": {},
   "source": [
    "# Solution goes here\n",
    "Interesting graph--it seems that there can be multiple differences of beta-gamma that yield the same infection rate, and thus it's not a direct function/linear. Essentially beta-gamma differenc alone won't tell you the infection rate. "
   ]
  },
  {
   "cell_type": "markdown",
   "metadata": {},
   "source": [
    "**Exercise:** Suppose you run a survey at the end of the semester and find that 26% of students had the Freshman Plague at some point.\n",
    "\n",
    "What is your best estimate of `c`?\n",
    "\n",
    "Hint: if you print `frac_infected_series`, you can read off the answer. "
   ]
  },
  {
   "cell_type": "code",
   "execution_count": 21,
   "metadata": {},
   "outputs": [
    {
     "name": "stdout",
     "output_type": "stream",
     "text": [
      "9.211261498125994 0.9999\n",
      "4.642295797508655 0.989902\n",
      "3.9873645670354945 0.979904\n",
      "3.6121329929348316 0.969906\n",
      "3.3509236987497943 0.959908\n",
      "3.15180795192451 0.94991\n",
      "2.9917110586931823 0.939912\n",
      "2.8583634826236866 0.929914\n",
      "2.7444670982705857 0.919916\n",
      "2.6453316808223923 0.909918\n",
      "2.5577667046220567 0.89992\n",
      "2.4795050280438127 0.889922\n",
      "2.408878952429612 0.879924\n",
      "2.3446267380302497 0.869926\n",
      "2.2857712539400064 0.859928\n",
      "2.2315407469723847 0.8499300000000001\n",
      "2.1813153374740213 0.839932\n",
      "2.1345898372419727 0.829934\n",
      "2.0909472638489692 0.819936\n",
      "2.050039563845128 0.809938\n",
      "2.0115733147799864 0.79994\n",
      "1.9752989408362212 0.789942\n",
      "1.941002456030725 0.779944\n",
      "1.9084990570863016 0.769946\n",
      "1.877628090925052 0.7599480000000001\n",
      "1.8482490580935054 0.74995\n",
      "1.8202384068443858 0.7399519999999999\n",
      "1.793486937703986 0.729954\n",
      "1.767897684443758 0.719956\n",
      "1.7433841704747504 0.7099580000000001\n",
      "1.7198689637703604 0.69996\n",
      "1.6972824711653356 0.689962\n",
      "1.6755619260961099 0.679964\n",
      "1.6546505337969954 0.6699660000000001\n",
      "1.6344967455295696 0.659968\n",
      "1.6150536392236918 0.6499699999999999\n",
      "1.5962783883962706 0.639972\n",
      "1.5781318047132682 0.629974\n",
      "1.5605779423096129 0.6199760000000001\n",
      "1.5435837541567619 0.609978\n",
      "1.5271187924999392 0.59998\n",
      "1.5111549467753982 0.589982\n",
      "1.4956662135373269 0.579984\n",
      "1.4806284938314251 0.569986\n",
      "1.4660194141918248 0.559988\n",
      "1.4518181680438906 0.54999\n",
      "1.438005374794211 0.539992\n",
      "1.4245629543015017 0.5299940000000001\n",
      "1.411474014764708 0.519996\n",
      "1.398722752350287 0.509998\n",
      "1.3862943611198906 0.5\n",
      "1.3741749520207722 0.49000200000000005\n",
      "1.3623514798708807 0.480004\n",
      "1.3508116774142602 0.47000600000000003\n",
      "1.339543995644363 0.460008\n",
      "1.3285375496968812 0.45001\n",
      "1.3177820697025668 0.44001200000000007\n",
      "1.307267856066747 0.430014\n",
      "1.2969857387077517 0.42001600000000006\n",
      "1.2869270398429853 0.410018\n",
      "1.2770835399602318 0.40002000000000004\n",
      "1.2674474466541095 0.390022\n",
      "1.2580113660444028 0.38002400000000003\n",
      "1.248768276525033 0.37002599999999997\n",
      "1.2397115046204148 0.360028\n",
      "1.2308347027504205 0.35003000000000006\n",
      "1.2221318287266463 0.340032\n",
      "1.213597126821532 0.33003400000000005\n",
      "1.2052251102684972 0.320036\n",
      "1.1970105450659079 0.31003800000000004\n",
      "1.1889484349706387 0.30004\n",
      "1.1810340075784724 0.290042\n",
      "1.1732627013987345 0.28004399999999996\n",
      "1.1656301538396308 0.270046\n",
      "1.1581321900287747 0.26004800000000006\n",
      "1.150764812400594 0.25005\n",
      "1.1435241909886977 0.24005200000000004\n",
      "1.1364066543670255 0.23005399999999998\n",
      "1.1294086811887414 0.22005600000000003\n",
      "1.122526892276427 0.21005799999999997\n",
      "1.1157580432212855 0.20006000000000002\n",
      "1.1090990174527793 0.19006200000000006\n",
      "1.1025468197434836 0.180064\n",
      "1.096098570116967 0.17006600000000005\n",
      "1.0897514981292387 0.160068\n",
      "1.083502937496775 0.15007000000000004\n",
      "1.0773503210463824 0.14007199999999997\n",
      "1.0712911759641732 0.13007400000000002\n",
      "1.06532311932278 0.12007600000000007\n",
      "1.0594438538676059 0.11007800000000001\n",
      "1.0536511640444304 0.10008000000000006\n",
      "1.0479429122520734 0.090082\n",
      "1.0423170353050903 0.08008400000000004\n",
      "1.0367715410926206 0.07008599999999998\n",
      "1.031304505420565 0.06008800000000003\n",
      "1.0259140690252317 0.05008999999999997\n",
      "1.0205984347474746 0.040092000000000017\n",
      "1.01535586485715 0.030094000000000065\n",
      "1.010184678518467 0.020096000000000003\n",
      "1.0050832493874777 0.010098000000000051\n",
      "1.0000500033335833 9.999999999998899e-05\n"
     ]
    }
   ],
   "source": [
    "# Solution goes here\n",
    "for i in range(0,101):\n",
    "    print(frac_infected_series.index[i],frac_infected_series.iloc[i])"
   ]
  },
  {
   "cell_type": "markdown",
   "metadata": {},
   "source": [
    "### 1.1581321900287747 0.26004800000000006\n",
    "Looks like 1.16 gives us approximately 26%"
   ]
  },
  {
   "cell_type": "code",
   "execution_count": null,
   "metadata": {},
   "outputs": [],
   "source": []
  }
 ],
 "metadata": {
  "kernelspec": {
   "display_name": "Python 3",
   "language": "python",
   "name": "python3"
  },
  "language_info": {
   "codemirror_mode": {
    "name": "ipython",
    "version": 3
   },
   "file_extension": ".py",
   "mimetype": "text/x-python",
   "name": "python",
   "nbconvert_exporter": "python",
   "pygments_lexer": "ipython3",
   "version": "3.8.8"
  }
 },
 "nbformat": 4,
 "nbformat_minor": 4
}
